{
  "cells": [
    {
      "cell_type": "markdown",
      "metadata": {
        "id": "view-in-github",
        "colab_type": "text"
      },
      "source": [
        "<a href=\"https://colab.research.google.com/github/laynz28/Multi-Model-RVC-Inference-MMRI/blob/master/Multi-Model-RVC-Inference-MMRI.ipynb\" target=\"_parent\"><img src=\"https://colab.research.google.com/assets/colab-badge.svg\" alt=\"Open In Colab\"/></a>"
      ]
    },
    {
      "cell_type": "code",
      "execution_count": null,
      "metadata": {
        "cellView": "form",
        "id": "OzpzCsSrSD4H"
      },
      "outputs": [],
      "source": [
        "#@title Check GPU\n",
        "!nvidia-smi"
      ]
    },
    {
      "cell_type": "code",
      "execution_count": null,
      "metadata": {
        "cellView": "form",
        "id": "Kp9R6hudSD4n"
      },
      "outputs": [],
      "source": [
        "#@title Install Dependencies\n",
        "!apt-get update\n",
        "!apt-get install -qq -y aria2\n",
        "!git clone -b master https://github.com/laynz28/Multi-Model-RVC-Inference-MMRI\n",
        "%cd Multi-Model-RVC-Inference-MMRI\n",
        "!pip install -r /content/Multi-Model-RVC-Inference-MMRI/requirements.txt"
      ]
    },
    {
      "cell_type": "code",
      "execution_count": null,
      "metadata": {
        "cellView": "form",
        "id": "nT6-C4cXSD4v"
      },
      "outputs": [],
      "source": [
        "#@title Download Hubert & RMVPE Model\n",
        "!aria2c --console-log-level=error -c -x 16 -s 16 -k 1M https://huggingface.co/lj1995/VoiceConversionWebUI/resolve/main/hubert_base.pt -d /content/Multi-Model-RVC-Inference-MMRI -o hubert_base.pt\n",
        "!aria2c --console-log-level=error -c -x 16 -s 16 -k 1M https://huggingface.co/lj1995/VoiceConversionWebUI/resolve/main/rmvpe.pt -d /content/Multi-Model-RVC-Inference-MMRI -o rmvpe.pt"
      ]
    },
    {
      "cell_type": "code",
      "execution_count": null,
      "metadata": {
        "cellView": "form",
        "id": "5umwTLJnSD43"
      },
      "outputs": [],
      "source": [
        "#@title Run\n",
        "%cd /content/Advanced-RVC-Inference\n",
        "!python infer.py --colab"
      ]
    }
  ],
  "metadata": {
    "language_info": {
      "name": "python"
    },
    "orig_nbformat": 4,
    "colab": {
      "provenance": [],
      "include_colab_link": true
    }
  },
  "nbformat": 4,
  "nbformat_minor": 0
}